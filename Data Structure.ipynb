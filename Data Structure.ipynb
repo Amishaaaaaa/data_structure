{
 "cells": [
  {
   "cell_type": "markdown",
   "id": "86ab7f2a-35d3-4f8b-b686-40b49e9a9370",
   "metadata": {},
   "source": [
    "#Q1. How do you comment code in Python? What are the different types of comments?\n",
    "\n",
    "in python, single line comments are made using '#' \n",
    "multiline comments are made like '''Hi there! This is a comment'''\n"
   ]
  },
  {
   "cell_type": "markdown",
   "id": "3030ac42-18c1-48cd-a276-748cf3c5ba25",
   "metadata": {},
   "source": [
    "#Q2. What are variables in Python? How do you declare and assign values to variables?\n",
    "'''n Python, variables are used to store and manipulate data. A variable is essentially a name that refers to a value or an object. It provides a way to conveniently access and work with data in your program.\n",
    "\n",
    "To declare and assign values to variables in Python, you simply need to use the assignment operator (=)\n",
    "\n",
    "declare three variables: name, age, and is_student. The variable name is assigned a string value \"John\", age is assigned an integer value 25, and is_student is assigned a Boolean value True.\n",
    "You can also assign a new value to an existing variable simply by reassigning it\n",
    "'''"
   ]
  },
  {
   "cell_type": "markdown",
   "id": "6c6c07e6-8730-4b3c-b104-559f246ba77c",
   "metadata": {},
   "source": [
    "Q3. How do you convert one data type to another in Python?\n",
    "\n",
    "In Python, you can convert one data type to another using type conversion functions or constructors. Here are some examples:\n",
    "\n",
    "int(): Converts a value to an integer data type.\n",
    "float(): Converts a value to a floating-point data type."
   ]
  },
  {
   "cell_type": "markdown",
   "id": "799f99d7-2ef7-4f48-97f6-c4e6f483bcbf",
   "metadata": {},
   "source": [
    "Q4. How do you write and execute a Python script from the command line?\n",
    "\n",
    "To write and execute a Python script from the command line, follow these steps:\n",
    "\n",
    "Open a text editor or an integrated development environment (IDE) of your choice.\n",
    "Write your Python code in the text editor and save the file with a .py extension. For example, you can save the file as script.py.\n",
    "Open a command prompt or terminal window.\n",
    "Navigate to the directory where you saved the Python script using the cd command. For example, if your script is in the Documents folder, you can navigate there using the command: cd documents\n",
    "Once you are in the correct directory, you can execute the Python script by typing python followed by the name of your script file.\n",
    "If you have multiple versions of Python installed on your system, you may need to specify the version you want to use by replacing python with python3 or python2, depending on your setup.\n",
    "Press Enter to run the command, and your Python script will be executed."
   ]
  },
  {
   "cell_type": "code",
   "execution_count": 2,
   "id": "93084169-f156-4a1f-ad02-8498de28ac95",
   "metadata": {},
   "outputs": [
    {
     "name": "stdout",
     "output_type": "stream",
     "text": [
      "[2, 3]\n"
     ]
    }
   ],
   "source": [
    "#Q5. Given a list my_list = [1, 2, 3, 4, 5], write the code to slice the list and obtain the sub-list [2, 3].\n",
    "\n",
    "my_list = [1, 2, 3, 4, 5]\n",
    "l=my_list[1:3]\n",
    "print(l)\n"
   ]
  },
  {
   "cell_type": "markdown",
   "id": "19da655c-60ff-4f79-880a-d0335017d85e",
   "metadata": {},
   "source": [
    "Q6. What is a complex number in mathematics, and how is it represented in Python?\n",
    "\n",
    "n mathematics, a complex number is a number of the form a + bi, where a and b are real numbers, and i is the imaginary unit defined as the square root of -1. The real part a represents the real number component, and the imaginary part b represents the imaginary number component.\n",
    "\n",
    "In Python, complex numbers can be represented using the complex data type. The complex type is built-in, and complex numbers can be created in two ways:\n",
    "\n",
    "Using the complex() constructor: You can create a complex number by using the complex() constructor and passing the real and imaginary parts as arguments."
   ]
  },
  {
   "cell_type": "code",
   "execution_count": 3,
   "id": "1ab4612d-4bea-42ad-a805-8a2b435a6888",
   "metadata": {},
   "outputs": [],
   "source": [
    "#Q7. What is the correct way to declare a variable named age and assign the value 25 to it?\n",
    "\n",
    "age=25"
   ]
  },
  {
   "cell_type": "code",
   "execution_count": 4,
   "id": "73b7196a-dd1c-4863-af0f-50dbffdd8f66",
   "metadata": {},
   "outputs": [],
   "source": [
    "#Q8. Declare a variable named price and assign the value 9.99 to it. What data type does this variable belong to?\n",
    "\n",
    "price=9.99\n",
    "#datatype: float"
   ]
  },
  {
   "cell_type": "code",
   "execution_count": null,
   "id": "012aba56-b250-45ac-98b0-0299d60adfc9",
   "metadata": {},
   "outputs": [],
   "source": [
    "#Q9. Create a variable named name and assign your full name to it as a string. How would you print the value of this variable?\n",
    "\n",
    "name='Amisha Mishra'"
   ]
  },
  {
   "cell_type": "code",
   "execution_count": null,
   "id": "07ba9f52-8b5e-4db8-815f-8afe29751a9e",
   "metadata": {},
   "outputs": [],
   "source": []
  }
 ],
 "metadata": {
  "kernelspec": {
   "display_name": "Python 3 (ipykernel)",
   "language": "python",
   "name": "python3"
  },
  "language_info": {
   "codemirror_mode": {
    "name": "ipython",
    "version": 3
   },
   "file_extension": ".py",
   "mimetype": "text/x-python",
   "name": "python",
   "nbconvert_exporter": "python",
   "pygments_lexer": "ipython3",
   "version": "3.10.8"
  }
 },
 "nbformat": 4,
 "nbformat_minor": 5
}
